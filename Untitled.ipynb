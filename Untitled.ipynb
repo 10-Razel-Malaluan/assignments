{
 "cells": [
  {
   "cell_type": "code",
   "execution_count": 2,
   "id": "e606a1dc-6389-479d-8b56-45a52941047f",
   "metadata": {},
   "outputs": [
    {
     "name": "stdout",
     "output_type": "stream",
     "text": [
      "A B C D E F G H I J K L M N O P Q R S T U V W X Y Z\n",
      "B C D E F G H I J K L M N O P Q R S T U V W X Y Z A\n",
      "C D E F G H I J K L M N O P Q R S T U V W X Y Z A B\n",
      "D E F G H I J K L M N O P Q R S T U V W X Y Z A B C\n",
      "E F G H I J K L M N O P Q R S T U V W X Y Z A B C D\n",
      "F G H I J K L M N O P Q R S T U V W X Y Z A B C D E\n",
      "G H I J K L M N O P Q R S T U V W X Y Z A B C D E F\n",
      "H I J K L M N O P Q R S T U V W X Y Z A B C D E F G\n",
      "I J K L M N O P Q R S T U V W X Y Z A B C D E F G H\n",
      "J K L M N O P Q R S T U V W X Y Z A B C D E F G H I\n",
      "K L M N O P Q R S T U V W X Y Z A B C D E F G H I J\n",
      "L M N O P Q R S T U V W X Y Z A B C D E F G H I J K\n",
      "M N O P Q R S T U V W X Y Z A B C D E F G H I J K L\n",
      "N O P Q R S T U V W X Y Z A B C D E F G H I J K L M\n",
      "O P Q R S T U V W X Y Z A B C D E F G H I J K L M N\n",
      "P Q R S T U V W X Y Z A B C D E F G H I J K L M N O\n",
      "Q R S T U V W X Y Z A B C D E F G H I J K L M N O P\n",
      "R S T U V W X Y Z A B C D E F G H I J K L M N O P Q\n",
      "S T U V W X Y Z A B C D E F G H I J K L M N O P Q R\n",
      "T U V W X Y Z A B C D E F G H I J K L M N O P Q R S\n",
      "U V W X Y Z A B C D E F G H I J K L M N O P Q R S T\n",
      "V W X Y Z A B C D E F G H I J K L M N O P Q R S T U\n",
      "W X Y Z A B C D E F G H I J K L M N O P Q R S T U V\n",
      "X Y Z A B C D E F G H I J K L M N O P Q R S T U V W\n",
      "Y Z A B C D E F G H I J K L M N O P Q R S T U V W X\n",
      "Z A B C D E F G H I J K L M N O P Q R S T U V W X Y\n"
     ]
    }
   ],
   "source": [
    "def create_vigenere_table():\n",
    "    alphabet = \"ABCDEFGHIJKLMNOPQRSTUVWXYZ\"\n",
    "    vigenere_table = [[0] * 26 for _ in range(26)]\n",
    "\n",
    "    for row in range(26):\n",
    "        for col in range(26):\n",
    "            vigenere_table[row][col] = alphabet[(row + col) % 26]\n",
    "\n",
    "    return vigenere_table\n",
    "\n",
    "# Example usage\n",
    "table = create_vigenere_table()\n",
    "\n",
    "# Print the table\n",
    "for row in table:\n",
    "    print(\" \".join(row))"
   ]
  },
  {
   "cell_type": "code",
   "execution_count": 6,
   "id": "bb317565-0137-49b6-ad31-116205555cc9",
   "metadata": {},
   "outputs": [
    {
     "data": {
      "text/plain": [
       "[0,\n",
       " 1,\n",
       " 2,\n",
       " 3,\n",
       " 4,\n",
       " 5,\n",
       " 6,\n",
       " 7,\n",
       " 8,\n",
       " 9,\n",
       " 10,\n",
       " 11,\n",
       " 12,\n",
       " 13,\n",
       " 14,\n",
       " 15,\n",
       " 16,\n",
       " 17,\n",
       " 18,\n",
       " 19,\n",
       " 20,\n",
       " 21,\n",
       " 22,\n",
       " 23,\n",
       " 24,\n",
       " 25]"
      ]
     },
     "execution_count": 6,
     "metadata": {},
     "output_type": "execute_result"
    }
   ],
   "source": [
    "list(range(0,26))"
   ]
  },
  {
   "cell_type": "code",
   "execution_count": 7,
   "id": "25b42743-943e-494b-a1ed-9a1f87328064",
   "metadata": {},
   "outputs": [
    {
     "name": "stdout",
     "output_type": "stream",
     "text": [
      "0 h\n",
      "1 e\n",
      "2 l\n",
      "3 l\n",
      "4 o\n"
     ]
    }
   ],
   "source": [
    "message = \"hello\"\n",
    "for i, letter in enumerate(message):\n",
    "\t\tprint(i, letter)"
   ]
  },
  {
   "cell_type": "raw",
   "id": "ddc05e5a-9888-4ea0-b27b-9a281f846d03",
   "metadata": {},
   "source": []
  },
  {
   "cell_type": "code",
   "execution_count": 66,
   "id": "8fe4d3a0-bef7-448f-b401-482783b49aa2",
   "metadata": {},
   "outputs": [],
   "source": [
    "def vigenere_cipher(message, key):\n",
    "    or"
   ]
  },
  {
   "cell_type": "code",
   "execution_count": 67,
   "id": "db9ef9bc-ea7c-485a-b107-43ce71caff2c",
   "metadata": {},
   "outputs": [
    {
     "name": "stdout",
     "output_type": "stream",
     "text": [
      "W\n",
      "W\n"
     ]
    },
    {
     "ename": "TypeError",
     "evalue": "'NoneType' object is not iterable",
     "output_type": "error",
     "traceback": [
      "\u001b[1;31m---------------------------------------------------------------------------\u001b[0m",
      "\u001b[1;31mTypeError\u001b[0m                                 Traceback (most recent call last)",
      "Cell \u001b[1;32mIn[67], line 1\u001b[0m\n\u001b[1;32m----> 1\u001b[0m \u001b[43mvigenere_cipher\u001b[49m\u001b[43m(\u001b[49m\u001b[38;5;124;43m\"\u001b[39;49m\u001b[38;5;124;43mWHAT\u001b[39;49m\u001b[38;5;124;43m\"\u001b[39;49m\u001b[43m,\u001b[49m\u001b[43m \u001b[49m\u001b[38;5;124;43m\"\u001b[39;49m\u001b[38;5;124;43mOH\u001b[39;49m\u001b[38;5;124;43m\"\u001b[39;49m\u001b[43m)\u001b[49m\n",
      "Cell \u001b[1;32mIn[66], line 5\u001b[0m, in \u001b[0;36mvigenere_cipher\u001b[1;34m(message, key)\u001b[0m\n\u001b[0;32m      2\u001b[0m \u001b[38;5;28;01mfor\u001b[39;00m letter \u001b[38;5;129;01min\u001b[39;00m \u001b[38;5;28mlist\u001b[39m(message):\n\u001b[0;32m      3\u001b[0m     \u001b[38;5;28mprint\u001b[39m (letter)\n\u001b[1;32m----> 5\u001b[0m     \u001b[38;5;28;01mfor\u001b[39;00m letter \u001b[38;5;129;01min\u001b[39;00m \u001b[38;5;28mprint\u001b[39m(letter):\n\u001b[0;32m      6\u001b[0m         \u001b[38;5;28mprint\u001b[39m (\u001b[38;5;28mlist\u001b[39m(key))\n",
      "\u001b[1;31mTypeError\u001b[0m: 'NoneType' object is not iterable"
     ]
    }
   ],
   "source": [
    "vigenere_cipher(\"WHAT\", \"OH\")"
   ]
  },
  {
   "cell_type": "code",
   "execution_count": 72,
   "id": "eedab5ba-328b-4f1b-8721-0d95a538d01b",
   "metadata": {},
   "outputs": [
    {
     "data": {
      "text/plain": [
       "range(0, 4)"
      ]
     },
     "execution_count": 72,
     "metadata": {},
     "output_type": "execute_result"
    }
   ],
   "source": [
    "range(len(\"jelo\"))"
   ]
  },
  {
   "cell_type": "code",
   "execution_count": 68,
   "id": "08129c56-8662-4e54-874f-bd4b51c9c196",
   "metadata": {},
   "outputs": [],
   "source": [
    "def vigenere_cipher(message, key):\n",
    "    # Remove spaces and convert both message and key to uppercase\n",
    "    message = message.replace(\" \", \"\").upper()\n",
    "    key = key.upper()\n",
    "\n",
    "    encrypted_message = \"\"\n",
    "    key_index = 0\n",
    "\n",
    "    for letter in message:\n",
    "        if letter.isalpha():\n",
    "            # Convert the letter of the key to its corresponding shift value\n",
    "            shift = ord(key[key_index]) - ord('A')\n",
    "\n",
    "            # Shift the current letter of the message\n",
    "            encrypted_letter = chr((ord(letter) - ord('A') + shift) % 26 + ord('A'))\n",
    "            \n",
    "            encrypted_message += encrypted_letter\n",
    "\n",
    "            # Increment the key index\n",
    "            key_index = (key_index + 1) % len(key)\n",
    "        else:\n",
    "            encrypted_message += letter\n",
    "\n",
    "    return encrypted_message"
   ]
  },
  {
   "cell_type": "code",
   "execution_count": 71,
   "id": "379d9186-32e7-43f5-b48f-41efd415d935",
   "metadata": {},
   "outputs": [
    {
     "data": {
      "text/plain": [
       "'KG'"
      ]
     },
     "execution_count": 71,
     "metadata": {},
     "output_type": "execute_result"
    }
   ],
   "source": [
    "vigenere_cipher(\"A C\", \"KEY\")"
   ]
  },
  {
   "cell_type": "code",
   "execution_count": 74,
   "id": "85a44ace-a18f-4f87-b591-a3826021caab",
   "metadata": {},
   "outputs": [
    {
     "data": {
      "text/plain": [
       "range(0, 5)"
      ]
     },
     "execution_count": 74,
     "metadata": {},
     "output_type": "execute_result"
    }
   ],
   "source": [
    "range(len(\"HELLO\"))"
   ]
  },
  {
   "cell_type": "code",
   "execution_count": 78,
   "id": "0de6f761-c9fc-4a96-868f-11f50606f60b",
   "metadata": {},
   "outputs": [
    {
     "data": {
      "text/plain": [
       "56"
      ]
     },
     "execution_count": 78,
     "metadata": {},
     "output_type": "execute_result"
    }
   ],
   "source": [
    "ord(\"8\")"
   ]
  },
  {
   "cell_type": "code",
   "execution_count": 85,
   "id": "6e42370b-c09c-4e1e-845a-180eb0bd3239",
   "metadata": {},
   "outputs": [
    {
     "ename": "NameError",
     "evalue": "name 'new_alpha' is not defined",
     "output_type": "error",
     "traceback": [
      "\u001b[1;31m---------------------------------------------------------------------------\u001b[0m",
      "\u001b[1;31mNameError\u001b[0m                                 Traceback (most recent call last)",
      "Cell \u001b[1;32mIn[85], line 10\u001b[0m\n\u001b[0;32m      8\u001b[0m \u001b[38;5;28;01mfor\u001b[39;00m i \u001b[38;5;129;01min\u001b[39;00m \u001b[38;5;28mrange\u001b[39m(\u001b[38;5;28mlen\u001b[39m(message)):\n\u001b[0;32m      9\u001b[0m     letter \u001b[38;5;241m=\u001b[39m message[i]\n\u001b[1;32m---> 10\u001b[0m     shifted \u001b[38;5;241m=\u001b[39m \u001b[43mnew_alpha\u001b[49m[i]\n\u001b[0;32m     11\u001b[0m     new_letter \u001b[38;5;241m=\u001b[39m letter\u001b[38;5;241m.\u001b[39mreplace(letter,shifted)\n\u001b[0;32m     13\u001b[0m \u001b[38;5;28;01mreturn\u001b[39;00m new_letter\n",
      "\u001b[1;31mNameError\u001b[0m: name 'new_alpha' is not defined"
     ]
    }
   ],
   "source": [
    "def caesar_cipher(message, shift):\n",
    "\n",
    "    message = message.upper()\n",
    "    new_message = \"\"\n",
    "\n",
    "    new_alpha = message[int(shift)-1:] + message[0:shift-1] #shifted word\n",
    "\n",
    "for i in range(len(message)):\n",
    "    letter = message[i]\n",
    "    shifted = new_alpha[i]\n",
    "    new_letter = letter.replace(letter,shifted)\n",
    "    \n",
    "return new_letter\n"
   ]
  },
  {
   "cell_type": "code",
   "execution_count": null,
   "id": "08d7edb4-fa03-4900-9674-4ef43f45a7b7",
   "metadata": {},
   "outputs": [],
   "source": []
  },
  {
   "cell_type": "code",
   "execution_count": null,
   "id": "19619328-b46a-4343-aa3e-e63f01725ed6",
   "metadata": {},
   "outputs": [],
   "source": []
  }
 ],
 "metadata": {
  "kernelspec": {
   "display_name": "Python 3 (ipykernel)",
   "language": "python",
   "name": "python3"
  },
  "language_info": {
   "codemirror_mode": {
    "name": "ipython",
    "version": 3
   },
   "file_extension": ".py",
   "mimetype": "text/x-python",
   "name": "python",
   "nbconvert_exporter": "python",
   "pygments_lexer": "ipython3",
   "version": "3.10.9"
  }
 },
 "nbformat": 4,
 "nbformat_minor": 5
}
